{
  "nbformat": 4,
  "nbformat_minor": 0,
  "metadata": {
    "colab": {
      "provenance": [],
      "authorship_tag": "ABX9TyOeu5l1FEa7w3dIA95jgAa/",
      "include_colab_link": true
    },
    "kernelspec": {
      "name": "python3",
      "display_name": "Python 3"
    },
    "language_info": {
      "name": "python"
    }
  },
  "cells": [
    {
      "cell_type": "markdown",
      "metadata": {
        "id": "view-in-github",
        "colab_type": "text"
      },
      "source": [
        "<a href=\"https://colab.research.google.com/github/TejasRaut14/Array_Problem/blob/main/ARRAY.ipynb\" target=\"_parent\"><img src=\"https://colab.research.google.com/assets/colab-badge.svg\" alt=\"Open In Colab\"/></a>"
      ]
    },
    {
      "cell_type": "code",
      "execution_count": null,
      "metadata": {
        "id": "jIZJxXnKL4ra"
      },
      "outputs": [],
      "source": [
        " #Find the smallest number in the array"
      ]
    },
    {
      "cell_type": "code",
      "source": [
        "a=[]\n",
        "b=int(input())\n",
        "\n",
        "for i in range(b):\n",
        "  c=int(input())\n",
        "  a.append(c)\n",
        "\n",
        "a.sort()\n",
        "print(a[0])"
      ],
      "metadata": {
        "colab": {
          "base_uri": "https://localhost:8080/"
        },
        "id": "1_TbZvFkMY-A",
        "outputId": "71421a67-8441-44d6-8a06-ae0d78e05b02"
      },
      "execution_count": null,
      "outputs": [
        {
          "output_type": "stream",
          "name": "stdout",
          "text": [
            "5\n",
            "2\n",
            "5\n",
            "1\n",
            "3\n",
            "0\n",
            "0\n"
          ]
        }
      ]
    },
    {
      "cell_type": "markdown",
      "source": [
        "Find the largest number in an array"
      ],
      "metadata": {
        "id": "n0d0X_3VNgqM"
      }
    },
    {
      "cell_type": "code",
      "source": [
        "x=[]\n",
        "y=int(input())\n",
        "\n",
        "for i in range(y):\n",
        "  z=int(input())\n",
        "  x.append(z)\n",
        "\n",
        "\n",
        "print(max(x))\n",
        "\n"
      ],
      "metadata": {
        "colab": {
          "base_uri": "https://localhost:8080/"
        },
        "id": "9vEoIPbCNm0e",
        "outputId": "2229e36d-f8f9-4fc1-e5fb-a34a46869bec"
      },
      "execution_count": null,
      "outputs": [
        {
          "output_type": "stream",
          "name": "stdout",
          "text": [
            "4\n",
            "66\n",
            "5\n",
            "4\n",
            "99\n",
            "99\n"
          ]
        }
      ]
    },
    {
      "cell_type": "markdown",
      "source": [
        "Second smallest and second largest elements in an array"
      ],
      "metadata": {
        "id": "b5ChhMJ2PVxT"
      }
    },
    {
      "cell_type": "markdown",
      "source": [],
      "metadata": {
        "id": "1G-qoayZMOzI"
      }
    },
    {
      "cell_type": "code",
      "source": [
        "m=[]\n",
        "n=int(input())\n",
        "\n",
        "for i in range(n):\n",
        "  o=int(input())\n",
        "  m.append(o)\n",
        "\n",
        "m.sort()\n",
        "print(\"second small:\", m[1])\n",
        "print(\"second large:\", m[-2])\n",
        "\n",
        "\n",
        "\n",
        "\n",
        "\n"
      ],
      "metadata": {
        "colab": {
          "base_uri": "https://localhost:8080/"
        },
        "id": "REmyw7mEPgbA",
        "outputId": "66817037-ad74-4e72-9513-17054af697b4"
      },
      "execution_count": null,
      "outputs": [
        {
          "output_type": "stream",
          "name": "stdout",
          "text": [
            "5\n",
            "1\n",
            "2\n",
            "3\n",
            "4\n",
            "5\n",
            "second small: 2\n",
            "second large: 4\n"
          ]
        }
      ]
    },
    {
      "cell_type": "code",
      "source": [
        "li = [1,2,4,7,7,5]\n",
        "li2 = []\n",
        "\n",
        "for num in li:\n",
        "  if num not in li2:\n",
        "    li2.append(num)\n",
        "\n",
        "li2.sort()\n",
        "\n",
        "li2[1]\n",
        "\n"
      ],
      "metadata": {
        "colab": {
          "base_uri": "https://localhost:8080/"
        },
        "id": "UnslrPzFR25O",
        "outputId": "0fe5d714-48c9-446f-cbb4-7c4a76acdb4a"
      },
      "execution_count": null,
      "outputs": [
        {
          "output_type": "execute_result",
          "data": {
            "text/plain": [
              "2"
            ]
          },
          "metadata": {},
          "execution_count": 2
        }
      ]
    },
    {
      "cell_type": "code",
      "source": [
        "li = [1,2,4,7,7,5]\n",
        "\n",
        "i = 0\n",
        "\n",
        "last_seen = 0\n",
        "while i <len(li)-1:\n",
        "  if li[i]==last_seen:\n",
        "    i+=1\n",
        "  if li[i]>=li[i+1]:\n",
        "      li[i], li[i+1] = li[i+1], li[i]\n",
        "  last_seen = li[i]\n",
        "  print(last_seen)\n",
        "  i+=1\n",
        "\n",
        "print(li)\n"
      ],
      "metadata": {
        "colab": {
          "base_uri": "https://localhost:8080/",
          "height": 280
        },
        "id": "IjtfqPe3R46J",
        "outputId": "b624a782-ec15-4e6f-db2b-2717d9b7360c"
      },
      "execution_count": null,
      "outputs": [
        {
          "output_type": "stream",
          "name": "stdout",
          "text": [
            "1\n",
            "2\n",
            "4\n",
            "7\n"
          ]
        },
        {
          "output_type": "error",
          "ename": "IndexError",
          "evalue": "list index out of range",
          "traceback": [
            "\u001b[0;31m---------------------------------------------------------------------------\u001b[0m",
            "\u001b[0;31mIndexError\u001b[0m                                Traceback (most recent call last)",
            "\u001b[0;32m<ipython-input-97-70c889910f83>\u001b[0m in \u001b[0;36m<cell line: 6>\u001b[0;34m()\u001b[0m\n\u001b[1;32m      7\u001b[0m   \u001b[0;32mif\u001b[0m \u001b[0mli\u001b[0m\u001b[0;34m[\u001b[0m\u001b[0mi\u001b[0m\u001b[0;34m]\u001b[0m\u001b[0;34m==\u001b[0m\u001b[0mlast_seen\u001b[0m\u001b[0;34m:\u001b[0m\u001b[0;34m\u001b[0m\u001b[0;34m\u001b[0m\u001b[0m\n\u001b[1;32m      8\u001b[0m     \u001b[0mi\u001b[0m\u001b[0;34m+=\u001b[0m\u001b[0;36m1\u001b[0m\u001b[0;34m\u001b[0m\u001b[0;34m\u001b[0m\u001b[0m\n\u001b[0;32m----> 9\u001b[0;31m   \u001b[0;32mif\u001b[0m \u001b[0mli\u001b[0m\u001b[0;34m[\u001b[0m\u001b[0mi\u001b[0m\u001b[0;34m]\u001b[0m\u001b[0;34m>=\u001b[0m\u001b[0mli\u001b[0m\u001b[0;34m[\u001b[0m\u001b[0mi\u001b[0m\u001b[0;34m+\u001b[0m\u001b[0;36m1\u001b[0m\u001b[0;34m]\u001b[0m\u001b[0;34m:\u001b[0m\u001b[0;34m\u001b[0m\u001b[0;34m\u001b[0m\u001b[0m\n\u001b[0m\u001b[1;32m     10\u001b[0m       \u001b[0mli\u001b[0m\u001b[0;34m[\u001b[0m\u001b[0mi\u001b[0m\u001b[0;34m]\u001b[0m\u001b[0;34m,\u001b[0m \u001b[0mli\u001b[0m\u001b[0;34m[\u001b[0m\u001b[0mi\u001b[0m\u001b[0;34m+\u001b[0m\u001b[0;36m1\u001b[0m\u001b[0;34m]\u001b[0m \u001b[0;34m=\u001b[0m \u001b[0mli\u001b[0m\u001b[0;34m[\u001b[0m\u001b[0mi\u001b[0m\u001b[0;34m+\u001b[0m\u001b[0;36m1\u001b[0m\u001b[0;34m]\u001b[0m\u001b[0;34m,\u001b[0m \u001b[0mli\u001b[0m\u001b[0;34m[\u001b[0m\u001b[0mi\u001b[0m\u001b[0;34m]\u001b[0m\u001b[0;34m\u001b[0m\u001b[0;34m\u001b[0m\u001b[0m\n\u001b[1;32m     11\u001b[0m   \u001b[0mlast_seen\u001b[0m \u001b[0;34m=\u001b[0m \u001b[0mli\u001b[0m\u001b[0;34m[\u001b[0m\u001b[0mi\u001b[0m\u001b[0;34m]\u001b[0m\u001b[0;34m\u001b[0m\u001b[0;34m\u001b[0m\u001b[0m\n",
            "\u001b[0;31mIndexError\u001b[0m: list index out of range"
          ]
        }
      ]
    },
    {
      "cell_type": "code",
      "source": [],
      "metadata": {
        "id": "IODNwk1mULNw"
      },
      "execution_count": null,
      "outputs": []
    },
    {
      "cell_type": "code",
      "source": [
        "array1=[]\n",
        "elements1=int(input())\n",
        "\n",
        "for i in range(elements1):\n",
        "  elements2=int(input())\n",
        "  array1.append(elements2)\n",
        "\n",
        "reverse=array1[::-1]\n",
        "print(reverse)\n"
      ],
      "metadata": {
        "colab": {
          "base_uri": "https://localhost:8080/"
        },
        "id": "Zb_R7kwjZxDu",
        "outputId": "5e1c4f7c-6d18-4dad-815c-4a165272c56e"
      },
      "execution_count": null,
      "outputs": [
        {
          "output_type": "stream",
          "name": "stdout",
          "text": [
            "4\n",
            "1\n",
            "2\n",
            "3\n",
            "4\n",
            "[4, 3, 2, 1]\n"
          ]
        }
      ]
    },
    {
      "cell_type": "markdown",
      "source": [
        "Count frequnecy of each elemets in an array\n"
      ],
      "metadata": {
        "id": "cdUrPflEbLeN"
      }
    },
    {
      "cell_type": "code",
      "source": [
        "arr=[]\n",
        "b=int(input())\n",
        "for i in range(b):\n",
        "  c=int(input())\n",
        "  arr.append(c)\n",
        "\n",
        "for i in set(arr):\n",
        "\n",
        "    print(i, arr.count(i))"
      ],
      "metadata": {
        "colab": {
          "base_uri": "https://localhost:8080/"
        },
        "id": "v8RkfqvCbP9J",
        "outputId": "62375855-fb67-4d22-e679-60897323dec1"
      },
      "execution_count": null,
      "outputs": [
        {
          "output_type": "stream",
          "name": "stdout",
          "text": [
            "4\n",
            "1\n",
            "2\n",
            "3\n",
            "3\n",
            "1 1\n",
            "2 1\n",
            "3 2\n"
          ]
        }
      ]
    },
    {
      "cell_type": "code",
      "source": [
        "#Second smallest and second largest elements in the array"
      ],
      "metadata": {
        "id": "ZOPM4nWfdHNG"
      },
      "execution_count": null,
      "outputs": []
    },
    {
      "cell_type": "code",
      "source": [
        "l1=[1,2,4,7,7,5]\n",
        "l1=set(l1)\n",
        "print(l1)\n",
        "l2=sorted(l1, reverse=True)\n",
        "l3 = sorted(l1)\n",
        "print('acd format', l3[1] , 'decending  format ' , l2[1])\n",
        "print()\n",
        "\n"
      ],
      "metadata": {
        "colab": {
          "base_uri": "https://localhost:8080/"
        },
        "id": "t50xJc5Ceh0n",
        "outputId": "ffd8d36c-3803-4445-e099-7c281e3022bd"
      },
      "execution_count": null,
      "outputs": [
        {
          "output_type": "stream",
          "name": "stdout",
          "text": [
            "{1, 2, 4, 5, 7}\n",
            "acd format 2 decending  format  5\n",
            "\n"
          ]
        }
      ]
    },
    {
      "cell_type": "code",
      "source": [
        "a = [2,4,6,7,89,45 ]\n",
        "list(map(str, a))"
      ],
      "metadata": {
        "colab": {
          "base_uri": "https://localhost:8080/"
        },
        "id": "K7sdViF_eoPd",
        "outputId": "7400ae66-4c00-4f15-c081-811e225061d9"
      },
      "execution_count": null,
      "outputs": [
        {
          "output_type": "execute_result",
          "data": {
            "text/plain": [
              "['2', '4', '6', '7', '89', '45']"
            ]
          },
          "metadata": {},
          "execution_count": 113
        }
      ]
    },
    {
      "cell_type": "code",
      "source": [
        "a = lambda x, y:x*y\n",
        "a(4,5)"
      ],
      "metadata": {
        "colab": {
          "base_uri": "https://localhost:8080/"
        },
        "id": "VxnLZS0zfFic",
        "outputId": "ea1956fa-0607-43ab-f785-139ce7c3fb4b"
      },
      "execution_count": null,
      "outputs": [
        {
          "output_type": "execute_result",
          "data": {
            "text/plain": [
              "20"
            ]
          },
          "metadata": {},
          "execution_count": 115
        }
      ]
    },
    {
      "cell_type": "code",
      "source": [
        "a = list(map(int, input().split()))"
      ],
      "metadata": {
        "colab": {
          "base_uri": "https://localhost:8080/"
        },
        "id": "AbgrP1TJqWO8",
        "outputId": "c743e3da-915a-4b69-8a44-14dee637f61e"
      },
      "execution_count": null,
      "outputs": [
        {
          "name": "stdout",
          "output_type": "stream",
          "text": [
            "23 45 56 78 34  56 \n"
          ]
        },
        {
          "output_type": "execute_result",
          "data": {
            "text/plain": [
              "[23, 45, 56, 78, 34, 56]"
            ]
          },
          "metadata": {},
          "execution_count": 116
        }
      ]
    },
    {
      "cell_type": "markdown",
      "source": [
        "Rearrange array in incresing and decsing order"
      ],
      "metadata": {
        "id": "zZw9dH4RxTYS"
      }
    },
    {
      "cell_type": "code",
      "source": [
        "arr11=[]\n",
        "b=int(input())\n",
        "for i in range(b):\n",
        "  c=int(input())\n",
        "  arr11.append(c)\n",
        "\n",
        "a= sorted(arr11)\n",
        "\n",
        "e=sorted(arr11,reverse=True)\n",
        "\n",
        "\n",
        "mid=len(arr11)//2\n",
        "\n",
        "c=(a[0:mid])\n",
        "d=(e[0:mid])\n",
        "f=c+d\n",
        "print(f)\n"
      ],
      "metadata": {
        "colab": {
          "base_uri": "https://localhost:8080/"
        },
        "id": "gOvLCG-Fq9oU",
        "outputId": "7db8c44a-286f-4cee-8a4c-446a54868b28"
      },
      "execution_count": null,
      "outputs": [
        {
          "output_type": "stream",
          "name": "stdout",
          "text": [
            "4\n",
            "6\n",
            "3\n",
            "99\n",
            "100\n",
            "[3, 6, 100, 99]\n"
          ]
        }
      ]
    },
    {
      "cell_type": "code",
      "source": [
        "a=[]\n",
        "b=int(input())\n",
        "\n",
        "for i in range(b):\n",
        "  c=int(input())\n",
        "  a.append(c)\n",
        "\n",
        "sum=0;\n",
        "j=0;\n",
        "\n",
        "for j in range(b):\n",
        "  sum =sum+a[j]\n",
        "\n",
        "print(sum)\n",
        "\n",
        "\n"
      ],
      "metadata": {
        "colab": {
          "base_uri": "https://localhost:8080/"
        },
        "id": "7UMKhX4DsjME",
        "outputId": "095f8f10-ec3f-4c64-c70e-f1889d0af514"
      },
      "execution_count": null,
      "outputs": [
        {
          "output_type": "stream",
          "name": "stdout",
          "text": [
            "4\n",
            "1\n",
            "2\n",
            "3\n",
            "4\n",
            "10\n"
          ]
        }
      ]
    },
    {
      "cell_type": "code",
      "source": [
        "c =0\n",
        "for i in b:\n",
        "  c+=i\n",
        "print(c)"
      ],
      "metadata": {
        "colab": {
          "base_uri": "https://localhost:8080/"
        },
        "id": "jCJJshMg7PcR",
        "outputId": "fba51443-0270-44f6-a4d0-76184d56fc0a"
      },
      "execution_count": null,
      "outputs": [
        {
          "output_type": "stream",
          "name": "stdout",
          "text": [
            "14\n"
          ]
        }
      ]
    },
    {
      "cell_type": "code",
      "source": [
        "\n",
        "sum(b)"
      ],
      "metadata": {
        "colab": {
          "base_uri": "https://localhost:8080/"
        },
        "id": "ezY7GX4U9dTJ",
        "outputId": "319303b4-fb0d-4a25-ecf7-7612630c3997"
      },
      "execution_count": null,
      "outputs": [
        {
          "output_type": "execute_result",
          "data": {
            "text/plain": [
              "122"
            ]
          },
          "metadata": {},
          "execution_count": 5
        }
      ]
    },
    {
      "cell_type": "code",
      "source": [
        "#rotate array by k elemets"
      ],
      "metadata": {
        "id": "RkGolEMc9q39"
      },
      "execution_count": null,
      "outputs": []
    },
    {
      "cell_type": "code",
      "source": [
        "a=[]\n",
        "c=int(input())\n",
        "k=int(input())\n",
        "for i in range(c):\n",
        "  d=int(input())\n",
        "  a.append(d)\n",
        "\n",
        "b=a[k:]+a[:k]\n",
        "print(b)\n"
      ],
      "metadata": {
        "colab": {
          "base_uri": "https://localhost:8080/"
        },
        "id": "m6DGajoM9z9T",
        "outputId": "454d63e2-e50d-4eea-f109-040af643993d"
      },
      "execution_count": null,
      "outputs": [
        {
          "output_type": "stream",
          "name": "stdout",
          "text": [
            "4\n",
            "2\n",
            "1\n",
            "2\n",
            "3\n",
            "4\n",
            "[3, 4, 1, 2]\n"
          ]
        }
      ]
    },
    {
      "cell_type": "code",
      "source": [],
      "metadata": {
        "id": "skho_kQ4_cMq"
      },
      "execution_count": null,
      "outputs": []
    },
    {
      "cell_type": "markdown",
      "source": [
        "Average of all elemets in this array"
      ],
      "metadata": {
        "id": "PY4cpIz9JSPs"
      }
    },
    {
      "cell_type": "code",
      "source": [
        "a=[]\n",
        "b=int(input())\n",
        "for i in range(b):\n",
        "  c=int(input())\n",
        "  a.append(c)\n",
        "print(sum(a)/len(a))"
      ],
      "metadata": {
        "colab": {
          "base_uri": "https://localhost:8080/"
        },
        "id": "_FBs7sgEJV5j",
        "outputId": "4fc635d2-e9cd-47c5-f434-b44f5adf99da"
      },
      "execution_count": null,
      "outputs": [
        {
          "output_type": "stream",
          "name": "stdout",
          "text": [
            "4\n",
            "5\n",
            "4\n",
            "3\n",
            "2\n",
            "3.5\n"
          ]
        }
      ]
    },
    {
      "cell_type": "code",
      "source": [],
      "metadata": {
        "id": "j_IGvwN6JjWx"
      },
      "execution_count": null,
      "outputs": []
    },
    {
      "cell_type": "markdown",
      "source": [
        "Find median of the given arrays is"
      ],
      "metadata": {
        "id": "B5MQksXhJwdh"
      }
    },
    {
      "cell_type": "code",
      "source": [
        "a=[]\n",
        "b=int(input())\n",
        "for i in range(b):\n",
        "  c=int(input())\n",
        "  a.append(c)\n",
        "a.sort()\n",
        "\n",
        "if len(a)%2==0:\n",
        "  m=len(a)/2\n",
        "  print()\n",
        "\n",
        "elif len(a)%2 !=0:\n",
        "  print(a[len(a)//2+1])\n"
      ],
      "metadata": {
        "colab": {
          "base_uri": "https://localhost:8080/",
          "height": 332
        },
        "id": "8XOt9WfbJzPx",
        "outputId": "25e6d919-9679-441a-f05c-282c86140d0f"
      },
      "execution_count": null,
      "outputs": [
        {
          "name": "stdout",
          "output_type": "stream",
          "text": [
            "6\n",
            "1\n",
            "2\n",
            "3\n",
            "4\n",
            "5\n",
            "6\n"
          ]
        },
        {
          "output_type": "error",
          "ename": "TypeError",
          "evalue": "list indices must be integers or slices, not float",
          "traceback": [
            "\u001b[0;31m---------------------------------------------------------------------------\u001b[0m",
            "\u001b[0;31mTypeError\u001b[0m                                 Traceback (most recent call last)",
            "\u001b[0;32m<ipython-input-38-8869c48cf16e>\u001b[0m in \u001b[0;36m<cell line: 8>\u001b[0;34m()\u001b[0m\n\u001b[1;32m      7\u001b[0m \u001b[0;34m\u001b[0m\u001b[0m\n\u001b[1;32m      8\u001b[0m \u001b[0;32mif\u001b[0m \u001b[0mlen\u001b[0m\u001b[0;34m(\u001b[0m\u001b[0ma\u001b[0m\u001b[0;34m)\u001b[0m\u001b[0;34m%\u001b[0m\u001b[0;36m2\u001b[0m\u001b[0;34m==\u001b[0m\u001b[0;36m0\u001b[0m\u001b[0;34m:\u001b[0m\u001b[0;34m\u001b[0m\u001b[0;34m\u001b[0m\u001b[0m\n\u001b[0;32m----> 9\u001b[0;31m   \u001b[0mprint\u001b[0m\u001b[0;34m(\u001b[0m\u001b[0ma\u001b[0m\u001b[0;34m[\u001b[0m\u001b[0mlen\u001b[0m\u001b[0;34m(\u001b[0m\u001b[0;34m(\u001b[0m\u001b[0ma\u001b[0m\u001b[0;34m)\u001b[0m\u001b[0;34m)\u001b[0m\u001b[0;34m/\u001b[0m\u001b[0;36m2\u001b[0m\u001b[0;34m]\u001b[0m\u001b[0;34m)\u001b[0m\u001b[0;34m\u001b[0m\u001b[0;34m\u001b[0m\u001b[0m\n\u001b[0m\u001b[1;32m     10\u001b[0m \u001b[0;34m\u001b[0m\u001b[0m\n\u001b[1;32m     11\u001b[0m \u001b[0;32melif\u001b[0m \u001b[0mlen\u001b[0m\u001b[0;34m(\u001b[0m\u001b[0ma\u001b[0m\u001b[0;34m)\u001b[0m\u001b[0;34m%\u001b[0m\u001b[0;36m2\u001b[0m \u001b[0;34m!=\u001b[0m\u001b[0;36m0\u001b[0m\u001b[0;34m:\u001b[0m\u001b[0;34m\u001b[0m\u001b[0;34m\u001b[0m\u001b[0m\n",
            "\u001b[0;31mTypeError\u001b[0m: list indices must be integers or slices, not float"
          ]
        }
      ]
    },
    {
      "cell_type": "code",
      "source": [
        "s = [3, 4, 1, 2]\n",
        "s.sort()\n",
        "print(s)\n",
        "mid =len(s)//2\n",
        "k=s[mid-1 :mid+1]\n",
        "l=sum(k)/2\n",
        "p=int(l)\n",
        "print(s[p-1])\n",
        "\n",
        "\n",
        "\n"
      ],
      "metadata": {
        "colab": {
          "base_uri": "https://localhost:8080/"
        },
        "id": "TsuDw0yuLULc",
        "outputId": "d4d27a84-096e-4986-c11f-a7dd9f367841"
      },
      "execution_count": null,
      "outputs": [
        {
          "output_type": "stream",
          "name": "stdout",
          "text": [
            "[1, 2, 3, 4]\n",
            "2\n"
          ]
        }
      ]
    },
    {
      "cell_type": "code",
      "source": [
        "s =[23,45,57]"
      ],
      "metadata": {
        "colab": {
          "base_uri": "https://localhost:8080/"
        },
        "id": "W2exqPM-UwNi",
        "outputId": "46183692-1287-44e8-eded-fa6dc0b73947"
      },
      "execution_count": null,
      "outputs": [
        {
          "output_type": "execute_result",
          "data": {
            "text/plain": [
              "[23, 45]"
            ]
          },
          "metadata": {},
          "execution_count": 64
        }
      ]
    },
    {
      "cell_type": "markdown",
      "source": [
        "Remove duplicates in place from sorted array"
      ],
      "metadata": {
        "id": "zki6OM58YjDS"
      }
    },
    {
      "cell_type": "code",
      "source": [
        "li1=[]\n",
        "a=int(input())\n",
        "for i in range(a):\n",
        "  b=int(input())\n",
        "  li1.append(b)\n",
        "\n",
        "li1.sort()\n",
        "li2=list(set(li1))\n",
        "\n",
        "for i in range(len(li1)-len(li2)):\n",
        "  li2.append('_')\n",
        "li2\n",
        "\n"
      ],
      "metadata": {
        "colab": {
          "base_uri": "https://localhost:8080/"
        },
        "id": "gzltKh8VV_vo",
        "outputId": "8f0e1b20-2044-4c0f-971b-666d8ab7b4de"
      },
      "execution_count": null,
      "outputs": [
        {
          "name": "stdout",
          "output_type": "stream",
          "text": [
            "5\n",
            "1\n",
            "1\n",
            "2\n",
            "3\n",
            "3\n"
          ]
        },
        {
          "output_type": "execute_result",
          "data": {
            "text/plain": [
              "[1, 2, 3, '_', '_']"
            ]
          },
          "metadata": {},
          "execution_count": 13
        }
      ]
    },
    {
      "cell_type": "markdown",
      "source": [
        "Remove duplicates from unsorted array"
      ],
      "metadata": {
        "id": "CJwSC3Ftcm3q"
      }
    },
    {
      "cell_type": "code",
      "source": [
        "a=[]\n",
        "b=int(input())\n",
        "\n",
        "for i in range(b):\n",
        "  c=int(input())\n",
        "  a.append(c)\n",
        "\n",
        "d=list(set(a))\n",
        "print(d)"
      ],
      "metadata": {
        "colab": {
          "base_uri": "https://localhost:8080/"
        },
        "id": "yJgHRSrNcrHP",
        "outputId": "501de8fb-52c0-412e-d57b-dfa0feb2b7c1"
      },
      "execution_count": null,
      "outputs": [
        {
          "output_type": "stream",
          "name": "stdout",
          "text": [
            "5\n",
            "1\n",
            "9\n",
            "1\n",
            "2\n",
            "2\n",
            "[1, 2, 9]\n"
          ]
        }
      ]
    },
    {
      "cell_type": "code",
      "source": [
        "a = [2,3,1,9,3,1,3,9]\n",
        "a1 =[]\n",
        "for i in range(len(a)):\n",
        "  if a[i] not in a1:\n",
        "    a1.append(a[i])\n",
        "print(a1)"
      ],
      "metadata": {
        "colab": {
          "base_uri": "https://localhost:8080/"
        },
        "id": "PJGQ-eWBYomn",
        "outputId": "bd8fff57-d0d6-4982-d2c1-c430ba3ba7f6"
      },
      "execution_count": null,
      "outputs": [
        {
          "output_type": "stream",
          "name": "stdout",
          "text": [
            "[2, 3, 1, 9]\n"
          ]
        }
      ]
    },
    {
      "cell_type": "markdown",
      "source": [
        "Adding elemets in the arrays is :"
      ],
      "metadata": {
        "id": "ZNlRo3ykiL2k"
      }
    },
    {
      "cell_type": "code",
      "source": [
        "a=[]\n",
        "b=int(input())\n",
        "for i in range(b):\n",
        "  c=int(input())\n",
        "  a.append(c)\n",
        "\n",
        "d=a.insert(0,6)\n",
        "e=a.append(7)\n",
        "f=a.insert(4,8)\n",
        "print(a)\n",
        "\n",
        "\n"
      ],
      "metadata": {
        "colab": {
          "base_uri": "https://localhost:8080/"
        },
        "id": "kwn29OfjiQkC",
        "outputId": "08f9d3e3-411b-417c-e54b-a9cfe7199825"
      },
      "execution_count": null,
      "outputs": [
        {
          "output_type": "stream",
          "name": "stdout",
          "text": [
            "5\n",
            "1\n",
            "2\n",
            "3\n",
            "4\n",
            "5\n",
            "[6, 1, 2, 3, 8, 4, 5, 7]\n"
          ]
        }
      ]
    },
    {
      "cell_type": "code",
      "source": [
        "#Find repeating elemets in any array is"
      ],
      "metadata": {
        "id": "J8SgaWHjeThv"
      },
      "execution_count": null,
      "outputs": []
    },
    {
      "cell_type": "markdown",
      "source": [],
      "metadata": {
        "id": "W3bmi8bTmeSa"
      }
    },
    {
      "cell_type": "code",
      "source": [
        "b=[]\n",
        "j=[]\n",
        "a=int(input())\n",
        "for i in range(a):\n",
        "  c=int(input())\n",
        "  b.append(c)\n",
        "\n",
        "\n"
      ],
      "metadata": {
        "colab": {
          "base_uri": "https://localhost:8080/"
        },
        "id": "o0QE9oo5miln",
        "outputId": "cca3b923-366e-4acc-beed-2e9d885f9f59"
      },
      "execution_count": null,
      "outputs": [
        {
          "output_type": "stream",
          "name": "stdout",
          "text": [
            "4\n",
            "2\n",
            "2\n",
            "3\n",
            "4\n",
            "{2, 3, 4}\n"
          ]
        }
      ]
    },
    {
      "cell_type": "code",
      "source": [
        "a =[]\n",
        "b=int(input())\n",
        "\n",
        "for i in range(b):\n",
        "  c=int(input())\n",
        "  a.append(c)\n",
        "\n",
        "repeating_elemets=set()\n",
        "for i in a:\n",
        "  if a.count(i) >=2:\n",
        "    repeating_elemets.add(i)\n",
        "print(list(repeating_elemets))\n",
        "\n",
        "\n",
        "\n"
      ],
      "metadata": {
        "colab": {
          "base_uri": "https://localhost:8080/"
        },
        "id": "VwmodNdNm33h",
        "outputId": "0442d5b8-3331-4118-d682-c12225a49376"
      },
      "execution_count": null,
      "outputs": [
        {
          "output_type": "stream",
          "name": "stdout",
          "text": [
            "4\n",
            "1\n",
            "1\n",
            "2\n",
            "3\n",
            "[1]\n"
          ]
        }
      ]
    },
    {
      "cell_type": "markdown",
      "source": [
        "Find non -repeating elements in an array is :"
      ],
      "metadata": {
        "id": "23ODeJgorZw8"
      }
    },
    {
      "cell_type": "code",
      "source": [
        "x=[]\n",
        "y=int(input())\n",
        "\n",
        "for i in range(y):\n",
        "  z=int(input())\n",
        "  x.append(z)\n",
        "\n",
        "repeating_elemets=set()\n",
        "\n",
        "for i in x:\n",
        "  if x.count(i) ==1:\n",
        "    repeating_elemets.add(i)\n",
        "print(list(repeating_elemets))"
      ],
      "metadata": {
        "colab": {
          "base_uri": "https://localhost:8080/"
        },
        "id": "M0c0mPqtrgYB",
        "outputId": "9a785555-33d9-46c7-b4dc-6cedd9440de9"
      },
      "execution_count": null,
      "outputs": [
        {
          "output_type": "stream",
          "name": "stdout",
          "text": [
            "4\n",
            "1\n",
            "2\n",
            "3\n",
            "3\n",
            "[1, 2]\n"
          ]
        }
      ]
    },
    {
      "cell_type": "markdown",
      "source": [
        "Maximum product subarray"
      ],
      "metadata": {
        "id": "wLcrKDCSsk4Z"
      }
    },
    {
      "cell_type": "code",
      "source": [
        "nums = [1,2,-3,0,-4,-5]\n",
        "Counter=1\n",
        "# for num in Nums:\n",
        "#   # print(num)\n",
        "#   if num>0:\n",
        "#     print(num)\n",
        "#     Counter =Counter*num\n",
        "# print(Counter)\n",
        "d ={}\n",
        "nums = list(map(str, nums))\n",
        "print(nums)\n",
        "for i in nums:\n",
        "  print(i)\n",
        "#   for j in i:\n",
        "#     print(j)\n",
        "  # for j in i:\n",
        "  #   print(j)\n"
      ],
      "metadata": {
        "colab": {
          "base_uri": "https://localhost:8080/"
        },
        "id": "rO2LAKIdo7r8",
        "outputId": "6b999e61-143b-4fef-d8b6-ce591d253456"
      },
      "execution_count": null,
      "outputs": [
        {
          "output_type": "stream",
          "name": "stdout",
          "text": [
            "['1', '2', '-3', '0', '-4', '-5']\n",
            "1\n",
            "2\n",
            "-3\n",
            "0\n",
            "-4\n",
            "-5\n"
          ]
        }
      ]
    },
    {
      "cell_type": "code",
      "source": [
        "\n",
        "def maxProductSubArray(nums):\n",
        "    result = float('-inf')\n",
        "    for i in range(len(nums) - 1):\n",
        "        for j in range(i + 1, len(nums)):\n",
        "            prod = 1\n",
        "            for k in range(i, j + 1):\n",
        "                prod *= nums[k]\n",
        "            result = max(result, prod)\n",
        "    return result\n",
        "\n",
        "if __name__ == \"__main__\":\n",
        "    nums = [1, 2, -3, 0, -4, -5]\n",
        "    print(\"The maximum product subarray:\", maxProductSubArray(nums))\n"
      ],
      "metadata": {
        "colab": {
          "base_uri": "https://localhost:8080/"
        },
        "id": "_6PrAnT9vDL6",
        "outputId": "be11eca8-9b10-42b8-b9ba-37e37fe846c9"
      },
      "execution_count": null,
      "outputs": [
        {
          "output_type": "stream",
          "name": "stdout",
          "text": [
            "The maximum product subarray: 20\n"
          ]
        }
      ]
    },
    {
      "cell_type": "markdown",
      "source": [
        "Check number is panlidrome or not\n"
      ],
      "metadata": {
        "id": "M6NIGOWy1xDm"
      }
    },
    {
      "cell_type": "code",
      "source": [
        "a=int(input())\n",
        "b=str(a)\n",
        "c=b[::-1]\n",
        "if b==c:\n",
        "  print(\"palindrome\")\n",
        "else:\n",
        "  print(\"Not panlindrome\")\n"
      ],
      "metadata": {
        "colab": {
          "base_uri": "https://localhost:8080/"
        },
        "id": "k0X5PvOU12GK",
        "outputId": "68ebe62d-579c-4a4c-e899-443ed97ec362"
      },
      "execution_count": null,
      "outputs": [
        {
          "output_type": "stream",
          "name": "stdout",
          "text": [
            "7898\n",
            "Not panlindrome\n"
          ]
        }
      ]
    },
    {
      "cell_type": "markdown",
      "source": [],
      "metadata": {
        "id": "ptg1yoMzzgdE"
      }
    },
    {
      "cell_type": "markdown",
      "source": [
        "Find all symmetric pairs in an array"
      ],
      "metadata": {
        "id": "7AhsLp2rpJ-t"
      }
    },
    {
      "cell_type": "code",
      "source": [
        "pairs=[(1,5),(2,3),(4,2),(5,1),(2,4)]\n",
        "for pair in range(len(pairs)):\n",
        "  for j in range(pair+1,len(pairs)):\n",
        "    if set(pairs[pair])==set(pairs[j]):\n",
        "      print(pairs[j])\n",
        "# print(pairs)"
      ],
      "metadata": {
        "colab": {
          "base_uri": "https://localhost:8080/"
        },
        "id": "2MGLbTDZpOUj",
        "outputId": "174fbb76-2e1f-4cf3-b57d-315cf2127782"
      },
      "execution_count": null,
      "outputs": [
        {
          "output_type": "stream",
          "name": "stdout",
          "text": [
            "(5, 1)\n",
            "(2, 4)\n"
          ]
        }
      ]
    },
    {
      "cell_type": "code",
      "source": [
        "sum((1,2)),sum((2,1))"
      ],
      "metadata": {
        "colab": {
          "base_uri": "https://localhost:8080/"
        },
        "id": "1yl_vYiKpzeD",
        "outputId": "203cb5db-716b-4037-d49e-8015952794ca"
      },
      "execution_count": null,
      "outputs": [
        {
          "output_type": "execute_result",
          "data": {
            "text/plain": [
              "(3, 3)"
            ]
          },
          "metadata": {},
          "execution_count": 10
        }
      ]
    },
    {
      "cell_type": "code",
      "source": [
        "{1,2} in [{2,1},]"
      ],
      "metadata": {
        "colab": {
          "base_uri": "https://localhost:8080/"
        },
        "id": "_IR9d3f_qysx",
        "outputId": "67e07100-d77f-4154-fe9d-be7608ddc847"
      },
      "execution_count": null,
      "outputs": [
        {
          "output_type": "execute_result",
          "data": {
            "text/plain": [
              "True"
            ]
          },
          "metadata": {},
          "execution_count": 15
        }
      ]
    },
    {
      "cell_type": "markdown",
      "source": [
        "Maximum product in the subarray:"
      ],
      "metadata": {
        "id": "YVR8KNQmst8G"
      }
    },
    {
      "cell_type": "code",
      "source": [],
      "metadata": {
        "id": "w3XXj3mjq8ym"
      },
      "execution_count": null,
      "outputs": []
    },
    {
      "cell_type": "code",
      "source": [
        "# nums = [1,2,3,4,5,0]\n",
        "nums = [1,2,-3,0,-4,-5]\n",
        "max= 1\n",
        "min=1\n",
        "for i in range(len(nums)):\n",
        "  if nums[i]==0:\n",
        "    min=1\n",
        "  else:\n",
        "    min=min*nums[i]\n",
        "  if min> max:\n",
        "    max=min\n",
        "  # print(min)\n",
        "print(max)"
      ],
      "metadata": {
        "colab": {
          "base_uri": "https://localhost:8080/"
        },
        "id": "psM9wPkaszCb",
        "outputId": "8f15abf3-3289-4d69-945f-715b86c8c460"
      },
      "execution_count": null,
      "outputs": [
        {
          "output_type": "stream",
          "name": "stdout",
          "text": [
            "20\n"
          ]
        }
      ]
    },
    {
      "cell_type": "markdown",
      "source": [
        "Replace the each elemets by its rank"
      ],
      "metadata": {
        "id": "KKjpXfOcxRW9"
      }
    },
    {
      "cell_type": "code",
      "source": [
        "item=[20, 15, 26, 2, 98, 6]\n",
        "a=sorted(item)\n",
        "for i in item:\n",
        "  print(i,a.index(i)+1)\n",
        "\n",
        "\n",
        "\n"
      ],
      "metadata": {
        "colab": {
          "base_uri": "https://localhost:8080/"
        },
        "id": "eBcuHLfst8wZ",
        "outputId": "8e3f36d0-edaa-4366-be36-a4cb03584764"
      },
      "execution_count": null,
      "outputs": [
        {
          "output_type": "stream",
          "name": "stdout",
          "text": [
            "20 4\n",
            "15 3\n",
            "26 5\n",
            "2 1\n",
            "98 6\n",
            "6 2\n"
          ]
        }
      ]
    },
    {
      "cell_type": "code",
      "source": [],
      "metadata": {
        "id": "RWpNAjpgxWzJ"
      },
      "execution_count": null,
      "outputs": []
    },
    {
      "cell_type": "markdown",
      "source": [
        "Sort elemets of an array by frequency"
      ],
      "metadata": {
        "id": "q5XodJMy0Px9"
      }
    },
    {
      "cell_type": "code",
      "source": [
        "from collections import Counter\n",
        "a=[]\n",
        "b=int(input())\n",
        "\n",
        "for i in range(b):\n",
        "  c=int(input())\n",
        "  a.append(c)\n",
        "  a.sort()\n",
        "b=Counter(list(a))\n",
        "for i in b.values():\n",
        "  print(i)"
      ],
      "metadata": {
        "colab": {
          "base_uri": "https://localhost:8080/"
        },
        "id": "-tej_tk70UI8",
        "outputId": "a7bb0b31-6229-40d7-9c7f-7ec037803a3f"
      },
      "execution_count": null,
      "outputs": [
        {
          "output_type": "stream",
          "name": "stdout",
          "text": [
            "4\n",
            "2\n",
            "2\n",
            "1\n",
            "6\n",
            "1\n",
            "2\n",
            "1\n"
          ]
        }
      ]
    },
    {
      "cell_type": "code",
      "source": [
        "#rotate array by k elemets"
      ],
      "metadata": {
        "colab": {
          "base_uri": "https://localhost:8080/"
        },
        "id": "KZiwPO1h0qTX",
        "outputId": "8bcf6c2c-9bdf-48ab-da15-c4b71152fc9e"
      },
      "execution_count": null,
      "outputs": [
        {
          "output_type": "stream",
          "name": "stdout",
          "text": [
            "2\n",
            "1\n"
          ]
        }
      ]
    },
    {
      "cell_type": "code",
      "source": [
        "a=[]\n",
        "c=int(input())\n",
        "k=int(input())\n",
        "for i in range(c):\n",
        "  d=int(input())\n",
        "  a.append(d)\n",
        "\n",
        "b=a[k:]+a[:k]\n",
        "print(b)"
      ],
      "metadata": {
        "colab": {
          "base_uri": "https://localhost:8080/"
        },
        "id": "vqXUv30e5wWG",
        "outputId": "8ddd7f94-3a67-4e7c-b0bb-6bcfc9f88498"
      },
      "execution_count": null,
      "outputs": [
        {
          "output_type": "stream",
          "name": "stdout",
          "text": [
            "5\n",
            "3\n",
            "1\n",
            "2\n",
            "3\n",
            "4\n",
            "5\n",
            "[4, 5, 1, 2, 3]\n"
          ]
        }
      ]
    },
    {
      "cell_type": "code",
      "source": [
        "#Finding equlibrium index of an array"
      ],
      "metadata": {
        "id": "0kJn9gs04czL"
      },
      "execution_count": null,
      "outputs": []
    },
    {
      "cell_type": "code",
      "source": [
        "nums=[]\n",
        "c=int(input())\n",
        "for i in range(c):\n",
        "  d=int(input())\n",
        "  nums.append(d)\n",
        "# nums = [1,-1,4]\n",
        "\n",
        "for i in range(len(nums)):\n",
        "\n",
        "    a=(sum(nums[:i]),sum(nums[i+1:]),i)\n",
        "\n",
        "    if sum(nums[:i])==sum(nums[i+1:]):\n",
        "        print(i)"
      ],
      "metadata": {
        "colab": {
          "base_uri": "https://localhost:8080/"
        },
        "id": "zVFds0cw65FY",
        "outputId": "8b2c5999-8e33-4eaf-b6c7-eacd4831f660"
      },
      "execution_count": null,
      "outputs": [
        {
          "output_type": "stream",
          "name": "stdout",
          "text": [
            "5\n",
            "2\n",
            "3\n",
            "-1\n",
            "8\n",
            "4\n",
            "3\n"
          ]
        }
      ]
    },
    {
      "cell_type": "code",
      "source": [
        "3"
      ],
      "metadata": {
        "id": "cQzu9QKu7pQB"
      },
      "execution_count": null,
      "outputs": []
    },
    {
      "cell_type": "markdown",
      "source": [
        "Check array is subset of another array"
      ],
      "metadata": {
        "id": "r8htojV-8-3a"
      }
    },
    {
      "cell_type": "code",
      "source": [
        "a=[]\n",
        "b=[]\n",
        "\n",
        "x=int(input())\n",
        "for i in (a):\n",
        "  c=int(input())\n",
        "  a.append(c)\n",
        "\n",
        "y=int(input())\n",
        "\n",
        "for j in range(y):\n",
        "  d=int(input())\n",
        "  b.append(d)\n",
        "\n",
        "a=set(a)\n",
        "b=set(b)\n",
        "c=(a.issubset(b))\n",
        "\n",
        "if c==True:\n",
        "  print(\"Subset of array 2 \")\n",
        "else:\n",
        "  print(\"Not subset of array 1\")"
      ],
      "metadata": {
        "colab": {
          "base_uri": "https://localhost:8080/"
        },
        "id": "tv4O60Yn9Ctl",
        "outputId": "0a834a5f-6083-47b2-86eb-d8a67f0e971e"
      },
      "execution_count": null,
      "outputs": [
        {
          "output_type": "stream",
          "name": "stdout",
          "text": [
            "3\n",
            "4\n",
            "1\n",
            "2\n",
            "3\n",
            "4\n",
            "Subset of array 2 \n"
          ]
        }
      ]
    },
    {
      "cell_type": "code",
      "source": [],
      "metadata": {
        "id": "80qOIYOA9bPf"
      },
      "execution_count": null,
      "outputs": []
    },
    {
      "cell_type": "markdown",
      "source": [
        "Serach an elemets in an array"
      ],
      "metadata": {
        "id": "P-wuA15q-X3n"
      }
    },
    {
      "cell_type": "code",
      "source": [
        "a=[]\n",
        "\n",
        "b=int(input())\n",
        "for i in range(b):\n",
        "  c=int(input())\n",
        "  a.append(c)\n",
        "\n",
        "k=int(input('enter k'))\n",
        "\n",
        "for i in range(len(a)):\n",
        "  if a[i]==k:\n",
        "\n",
        "    print(i,a.index(i))\n"
      ],
      "metadata": {
        "id": "7Ojeu4_Q-cHV",
        "colab": {
          "base_uri": "https://localhost:8080/"
        },
        "outputId": "97c15dde-849e-4fb3-bf97-2396b8bb5508"
      },
      "execution_count": null,
      "outputs": [
        {
          "output_type": "stream",
          "name": "stdout",
          "text": [
            "4\n",
            "1\n",
            "2\n",
            "3\n",
            "4\n",
            "enter k2\n",
            "1 0\n"
          ]
        }
      ]
    },
    {
      "cell_type": "code",
      "source": [],
      "metadata": {
        "colab": {
          "base_uri": "https://localhost:8080/"
        },
        "id": "yIZMAHLSCVQ4",
        "outputId": "ce480b77-bd8a-46b7-f20e-8e99008031d6"
      },
      "execution_count": null,
      "outputs": [
        {
          "output_type": "execute_result",
          "data": {
            "text/plain": [
              "[1, 2, 3, 4]"
            ]
          },
          "metadata": {},
          "execution_count": 13
        }
      ]
    },
    {
      "cell_type": "code",
      "source": [],
      "metadata": {
        "id": "38oogYAFDPl6"
      },
      "execution_count": null,
      "outputs": []
    },
    {
      "cell_type": "markdown",
      "source": [
        "Reverse word in a string"
      ],
      "metadata": {
        "id": "HNXat7pwDsnG"
      }
    },
    {
      "cell_type": "code",
      "source": [
        "a=input()\n",
        "\n",
        "b=a.split()\n",
        "c=b[::-1]\n",
        "print(' '.join(c))"
      ],
      "metadata": {
        "colab": {
          "base_uri": "https://localhost:8080/"
        },
        "id": "BaEEm7RCDvUY",
        "outputId": "940c101f-e01d-4493-c5a9-a2656205343e"
      },
      "execution_count": null,
      "outputs": [
        {
          "output_type": "stream",
          "name": "stdout",
          "text": [
            "tejas raut \n",
            "raut tejas\n"
          ]
        }
      ]
    },
    {
      "cell_type": "markdown",
      "source": [
        "given string is palindrome or not"
      ],
      "metadata": {
        "id": "2OcCw_L6Egtc"
      }
    },
    {
      "cell_type": "code",
      "source": [
        "a=str(input())\n",
        "b=str(a)\n",
        "c=b[::-1]\n",
        "if b==c:\n",
        "  print(\"palindrome\")\n",
        "else:\n",
        "  print(\"Not palindrome\")"
      ],
      "metadata": {
        "colab": {
          "base_uri": "https://localhost:8080/"
        },
        "id": "nspkkGzsEDW4",
        "outputId": "49f637fa-86a9-48e4-bd98-a18e76b2e734"
      },
      "execution_count": null,
      "outputs": [
        {
          "output_type": "stream",
          "name": "stdout",
          "text": [
            "ABCDCBA\n",
            "palindrome\n"
          ]
        }
      ]
    },
    {
      "cell_type": "markdown",
      "source": [
        "Count number of vowels consonants space in string"
      ],
      "metadata": {
        "id": "gBPSgaEKGJGS"
      }
    },
    {
      "cell_type": "code",
      "source": [
        "a=input()\n",
        "vowels='aeiou'\n",
        "consonants='bcdfghjklmnpqrstvwxyz'\n",
        "spaces=' '\n",
        "\n",
        "v=0\n",
        "c=0\n",
        "s=0\n",
        "\n",
        "for i in a:\n",
        "  if i in vowels:\n",
        "    v=v+1\n",
        "  elif i in consonants:\n",
        "    c=c+1\n",
        "  elif i in spaces:\n",
        "    s=s+1\n",
        "print(v,c,s)\n",
        "\n",
        "\n"
      ],
      "metadata": {
        "colab": {
          "base_uri": "https://localhost:8080/"
        },
        "id": "KM0d7vkZFN1m",
        "outputId": "7f58dad0-ec66-482f-a877-1ffaacc0dbfb"
      },
      "execution_count": null,
      "outputs": [
        {
          "output_type": "stream",
          "name": "stdout",
          "text": [
            "tejas raut \n",
            "4 5 2\n"
          ]
        }
      ]
    },
    {
      "cell_type": "markdown",
      "source": [
        "Find non repeating charater in the string"
      ],
      "metadata": {
        "id": "g0wjsK9qIvyM"
      }
    },
    {
      "cell_type": "code",
      "source": [
        "a=input()\n",
        "b=set(a)\n",
        "c=[]\n",
        "for i in a:\n",
        "  if a.count(i)==1:\n",
        "    c.append(i)\n",
        "print(c)\n",
        "\n",
        "for i  in c:\n",
        "  print(i)"
      ],
      "metadata": {
        "colab": {
          "base_uri": "https://localhost:8080/"
        },
        "id": "JSPGq7DtGS54",
        "outputId": "af11d4d3-1b59-48ea-a9a5-7aa559d6c66b"
      },
      "execution_count": null,
      "outputs": [
        {
          "output_type": "stream",
          "name": "stdout",
          "text": [
            "google\n",
            "['l', 'e']\n",
            "l\n",
            "e\n"
          ]
        }
      ]
    },
    {
      "cell_type": "code",
      "source": [
        "# ord('b')"
      ],
      "metadata": {
        "id": "S42_BiOYI2aw",
        "colab": {
          "base_uri": "https://localhost:8080/"
        },
        "outputId": "9e1f3fbc-d775-4392-d452-2b5a4a09fadf"
      },
      "execution_count": null,
      "outputs": [
        {
          "output_type": "execute_result",
          "data": {
            "text/plain": [
              "98"
            ]
          },
          "metadata": {},
          "execution_count": 10
        }
      ]
    },
    {
      "cell_type": "code",
      "source": [
        "\n"
      ],
      "metadata": {
        "id": "OvE5hD6mElo_"
      },
      "execution_count": null,
      "outputs": []
    },
    {
      "cell_type": "markdown",
      "source": [
        "Print array after it is right rotated K times"
      ],
      "metadata": {
        "id": "x083CwhtX34N"
      }
    },
    {
      "cell_type": "code",
      "source": [
        "a=[]\n",
        "b=int(input())\n",
        "\n",
        "for i in range(b):\n",
        "  c=int(input())\n",
        "  a.append(c)\n",
        "\n",
        "k=int(input())\n",
        "s=input(\"enter the side \")\n",
        "s='l'\n",
        "if s=='r':\n",
        "  print(a[-k:] + a[:-k])\n",
        "else:\n",
        "  print(a[k:]+a[:k])\n"
      ],
      "metadata": {
        "colab": {
          "base_uri": "https://localhost:8080/"
        },
        "id": "6QOBzMkwX-j4",
        "outputId": "710039fb-f3b8-41a3-be52-7a0e4fd74d85"
      },
      "execution_count": null,
      "outputs": [
        {
          "output_type": "stream",
          "name": "stdout",
          "text": [
            "4\n",
            "1\n",
            "2\n",
            "3\n",
            "4\n",
            "2\n",
            "enter the side r\n",
            "[3, 4, 1, 2]\n"
          ]
        }
      ]
    },
    {
      "cell_type": "code",
      "source": [
        "k=3\n",
        "s='l'\n",
        "if s=='r':\n",
        "#   a[-k:-1:-1]\n",
        "    print(a[-k:] + a[:-k])\n",
        "else:\n",
        "  print(a[k:]+a[:k])"
      ],
      "metadata": {
        "colab": {
          "base_uri": "https://localhost:8080/"
        },
        "id": "kT1KYgAKZyUg",
        "outputId": "e16fb8d1-97ed-4fc5-a907-1f92d0945cb7"
      },
      "execution_count": null,
      "outputs": [
        {
          "output_type": "stream",
          "name": "stdout",
          "text": [
            "[4, 5, 6, 7, 1, 2, 3]\n"
          ]
        }
      ]
    },
    {
      "cell_type": "code",
      "source": [
        "a=[(1,2),(2,1),(3,4),(4,5),(5,4)]\n",
        "\n",
        "for i in range(len(a)):\n",
        "  for j in range(i+1,len(a)):\n",
        "    if set(a[i])==set(a[j]):\n",
        "      print(a[j])"
      ],
      "metadata": {
        "id": "6MeikYuwas5c",
        "colab": {
          "base_uri": "https://localhost:8080/"
        },
        "outputId": "86827146-5e53-4434-8413-7696244edf74"
      },
      "execution_count": null,
      "outputs": [
        {
          "output_type": "stream",
          "name": "stdout",
          "text": [
            "(2, 1)\n",
            "(5, 4)\n"
          ]
        }
      ]
    },
    {
      "cell_type": "code",
      "source": [
        "class player():  #class\n",
        "    def __init__(self, name, health, inventory): # constrctor\n",
        "        self.name = name\n",
        "        self.health = health\n",
        "        self.inventory = inventory\n",
        "    def info(self): # method\n",
        "        print('my name is ' , self.name )\n",
        "        print('my health is ', self.health)\n",
        "# Create the player object for the terrorist.\n",
        "t1 = player('Mojo', 50, {})\n",
        "print( (t1.name, t1.health))\n",
        "''"
      ],
      "metadata": {
        "id": "VXhHqN-BbUCn",
        "colab": {
          "base_uri": "https://localhost:8080/",
          "height": 54
        },
        "outputId": "fe3dfba1-33dc-468b-90d4-44763fc9d693"
      },
      "execution_count": null,
      "outputs": [
        {
          "output_type": "stream",
          "name": "stdout",
          "text": [
            "('Mojo', 50)\n"
          ]
        },
        {
          "output_type": "execute_result",
          "data": {
            "text/plain": [
              "''"
            ],
            "application/vnd.google.colaboratory.intrinsic+json": {
              "type": "string"
            }
          },
          "metadata": {},
          "execution_count": 4
        }
      ]
    },
    {
      "cell_type": "code",
      "source": [
        "t1.info()"
      ],
      "metadata": {
        "colab": {
          "base_uri": "https://localhost:8080/"
        },
        "id": "EkzxeU6aar1V",
        "outputId": "bbc8d628-d545-4793-b85f-df1f0398c8f6"
      },
      "execution_count": null,
      "outputs": [
        {
          "output_type": "stream",
          "name": "stdout",
          "text": [
            "my name is  Mojo\n",
            "my health is  50\n"
          ]
        }
      ]
    },
    {
      "cell_type": "code",
      "source": [],
      "metadata": {
        "id": "tzsKcteeau3M"
      },
      "execution_count": null,
      "outputs": []
    }
  ]
}